{
 "cells": [
  {
   "cell_type": "markdown",
   "id": "dd24222e",
   "metadata": {},
   "source": [
    "# E-Commerce: Product Range Analysis \n",
    "\n",
    "**The purpose of the project:**\n",
    "\n",
    "- **To learn the range of products, what products does the store have to offer and how are they sold?**\n",
    "\n",
    "\n",
    "- **What are the popular products and what are not.**\n",
    "\n",
    "\n",
    "- **Which products yield the greatest profit.**\n",
    "\n",
    "\n",
    "- **Which products are usually sold together.**\n",
    "\n",
    "### The basis of the analysis should be the fact that the recommendations are aimed to store manager so that he can change or improve the range of products."
   ]
  },
  {
   "cell_type": "markdown",
   "id": "a00ae0db",
   "metadata": {},
   "source": [
    "# Decomposition:\n",
    "\n",
    "## - EDA \n",
    "- **Checking for missing and duplicate values, adjusting the data types to facilitate the analysis process, general information about our data.**\n",
    "\n",
    "## - Analyze the product range\n",
    "\n",
    "- **We will check distribution by products, what sells more and what less, and in addition we will categorize the products to check if there is a leading category and if so what it is and how to possibly expand the products in that category, or perhaps reduce products in an unpopular category to free up resources for products in another popular category.**\n",
    "\n",
    "\n",
    "\n",
    "- **We will also make a distribution by date, we will check time patterns and try to find out what are the times when sales increase and where they actually decrease.**\n",
    "\n",
    "\n",
    "## - Formulate and test statistical hypotheses\n",
    "\n",
    "-  **Will expanding the range of products in a category that is considered popular result in an increase in sales?**\n",
    "\n",
    "- **Should unprofitable products be dropped?**\n",
    "\n",
    "## - Conclusion and Recomendation\n"
   ]
  },
  {
   "cell_type": "markdown",
   "id": "c60f1314",
   "metadata": {},
   "source": [
    "##   Downloading data"
   ]
  },
  {
   "cell_type": "code",
   "execution_count": 9,
   "id": "fa3b2d5d",
   "metadata": {},
   "outputs": [],
   "source": [
    "import pandas as pd\n",
    "import numpy as np\n",
    "import scipy.stats as stats\n",
    "from IPython.display import display\n",
    "import datetime as dt\n",
    "from datetime import date\n",
    "import matplotlib.pyplot as plt\n",
    "import plotly.express as px\n",
    "import seaborn as sns\n",
    "from plotly import graph_objects as go\n",
    "import sys\n",
    "import warnings\n",
    "if not sys.warnoptions:\n",
    "       warnings.simplefilter(\"ignore\")\n",
    "import sidetable\n",
    "import scipy.stats as stats\n",
    "        \n",
    "import re\n",
    "import nltk\n",
    "from nltk.stem import SnowballStemmer\n",
    "from nltk.tokenize import word_tokenize \n",
    "from nltk.stem.wordnet import WordNetLemmatizer\n",
    "from collections import Counter"
   ]
  },
  {
   "cell_type": "code",
   "execution_count": 15,
   "id": "1d780db9",
   "metadata": {
    "scrolled": true
   },
   "outputs": [
    {
     "data": {
      "text/html": [
       "<div>\n",
       "<style scoped>\n",
       "    .dataframe tbody tr th:only-of-type {\n",
       "        vertical-align: middle;\n",
       "    }\n",
       "\n",
       "    .dataframe tbody tr th {\n",
       "        vertical-align: top;\n",
       "    }\n",
       "\n",
       "    .dataframe thead th {\n",
       "        text-align: right;\n",
       "    }\n",
       "</style>\n",
       "<table border=\"1\" class=\"dataframe\">\n",
       "  <thead>\n",
       "    <tr style=\"text-align: right;\">\n",
       "      <th></th>\n",
       "      <th>InvoiceNo</th>\n",
       "      <th>StockCode</th>\n",
       "      <th>Description</th>\n",
       "      <th>Quantity</th>\n",
       "      <th>InvoiceDate</th>\n",
       "      <th>UnitPrice</th>\n",
       "      <th>CustomerID</th>\n",
       "    </tr>\n",
       "  </thead>\n",
       "  <tbody>\n",
       "    <tr>\n",
       "      <th>0</th>\n",
       "      <td>536365</td>\n",
       "      <td>85123A</td>\n",
       "      <td>WHITE HANGING HEART T-LIGHT HOLDER</td>\n",
       "      <td>6</td>\n",
       "      <td>11/29/2018 08:26</td>\n",
       "      <td>2.55</td>\n",
       "      <td>17850.0</td>\n",
       "    </tr>\n",
       "    <tr>\n",
       "      <th>1</th>\n",
       "      <td>536365</td>\n",
       "      <td>71053</td>\n",
       "      <td>WHITE METAL LANTERN</td>\n",
       "      <td>6</td>\n",
       "      <td>11/29/2018 08:26</td>\n",
       "      <td>3.39</td>\n",
       "      <td>17850.0</td>\n",
       "    </tr>\n",
       "    <tr>\n",
       "      <th>2</th>\n",
       "      <td>536365</td>\n",
       "      <td>84406B</td>\n",
       "      <td>CREAM CUPID HEARTS COAT HANGER</td>\n",
       "      <td>8</td>\n",
       "      <td>11/29/2018 08:26</td>\n",
       "      <td>2.75</td>\n",
       "      <td>17850.0</td>\n",
       "    </tr>\n",
       "    <tr>\n",
       "      <th>3</th>\n",
       "      <td>536365</td>\n",
       "      <td>84029G</td>\n",
       "      <td>KNITTED UNION FLAG HOT WATER BOTTLE</td>\n",
       "      <td>6</td>\n",
       "      <td>11/29/2018 08:26</td>\n",
       "      <td>3.39</td>\n",
       "      <td>17850.0</td>\n",
       "    </tr>\n",
       "    <tr>\n",
       "      <th>4</th>\n",
       "      <td>536365</td>\n",
       "      <td>84029E</td>\n",
       "      <td>RED WOOLLY HOTTIE WHITE HEART.</td>\n",
       "      <td>6</td>\n",
       "      <td>11/29/2018 08:26</td>\n",
       "      <td>3.39</td>\n",
       "      <td>17850.0</td>\n",
       "    </tr>\n",
       "  </tbody>\n",
       "</table>\n",
       "</div>"
      ],
      "text/plain": [
       "  InvoiceNo StockCode                          Description  Quantity  \\\n",
       "0    536365    85123A   WHITE HANGING HEART T-LIGHT HOLDER         6   \n",
       "1    536365     71053                  WHITE METAL LANTERN         6   \n",
       "2    536365    84406B       CREAM CUPID HEARTS COAT HANGER         8   \n",
       "3    536365    84029G  KNITTED UNION FLAG HOT WATER BOTTLE         6   \n",
       "4    536365    84029E       RED WOOLLY HOTTIE WHITE HEART.         6   \n",
       "\n",
       "        InvoiceDate  UnitPrice  CustomerID  \n",
       "0  11/29/2018 08:26       2.55     17850.0  \n",
       "1  11/29/2018 08:26       3.39     17850.0  \n",
       "2  11/29/2018 08:26       2.75     17850.0  \n",
       "3  11/29/2018 08:26       3.39     17850.0  \n",
       "4  11/29/2018 08:26       3.39     17850.0  "
      ]
     },
     "execution_count": 15,
     "metadata": {},
     "output_type": "execute_result"
    }
   ],
   "source": [
    "data = pd.read_csv('C:\\\\Users\\\\evyke\\\\OneDrive\\\\Desktop\\\\projects\\\\Final_Project\\\\ecommerce_dataset_us.csv', sep='\\t')\n",
    "data.head()"
   ]
  },
  {
   "cell_type": "code",
   "execution_count": 16,
   "id": "72b00688",
   "metadata": {
    "scrolled": false
   },
   "outputs": [
    {
     "name": "stdout",
     "output_type": "stream",
     "text": [
      "<class 'pandas.core.frame.DataFrame'>\n",
      "RangeIndex: 541909 entries, 0 to 541908\n",
      "Data columns (total 7 columns):\n",
      " #   Column       Non-Null Count   Dtype  \n",
      "---  ------       --------------   -----  \n",
      " 0   InvoiceNo    541909 non-null  object \n",
      " 1   StockCode    541909 non-null  object \n",
      " 2   Description  540455 non-null  object \n",
      " 3   Quantity     541909 non-null  int64  \n",
      " 4   InvoiceDate  541909 non-null  object \n",
      " 5   UnitPrice    541909 non-null  float64\n",
      " 6   CustomerID   406829 non-null  float64\n",
      "dtypes: float64(2), int64(1), object(4)\n",
      "memory usage: 28.9+ MB\n"
     ]
    }
   ],
   "source": [
    "data.info()"
   ]
  },
  {
   "cell_type": "code",
   "execution_count": null,
   "id": "3c62786c",
   "metadata": {
    "scrolled": false
   },
   "outputs": [],
   "source": [
    "data.info()"
   ]
  },
  {
   "cell_type": "code",
   "execution_count": null,
   "id": "6db55903",
   "metadata": {},
   "outputs": [],
   "source": [
    "#function to calculate missing values and duplicates \n",
    "def check(df):\n",
    "    print('_____________________________________')\n",
    "    print('MISSING VALUES:')\n",
    "    print(df.isna().sum())\n",
    "    print('______________________________________')\n",
    "    print('SHARE OF MISSING VALUES (%):')\n",
    "    print(round(((df.isnull().sum()/len(df))*100),2))\n",
    "    print('______________________________________')\n",
    "    print('DUPLICATES:')\n",
    "    print(df.duplicated().sum()) "
   ]
  },
  {
   "cell_type": "code",
   "execution_count": null,
   "id": "73923934",
   "metadata": {},
   "outputs": [],
   "source": [
    "check(data)"
   ]
  },
  {
   "cell_type": "code",
   "execution_count": null,
   "id": "03383777",
   "metadata": {},
   "outputs": [],
   "source": [
    "data = data.drop_duplicates()"
   ]
  },
  {
   "cell_type": "code",
   "execution_count": null,
   "id": "451d45ae",
   "metadata": {},
   "outputs": [],
   "source": [
    "data.describe()"
   ]
  },
  {
   "cell_type": "code",
   "execution_count": null,
   "id": "24714468",
   "metadata": {},
   "outputs": [],
   "source": [
    "data.InvoiceDate.describe()"
   ]
  },
  {
   "cell_type": "code",
   "execution_count": null,
   "id": "b7dbf6c1",
   "metadata": {
    "scrolled": true
   },
   "outputs": [],
   "source": [
    "data.nunique()"
   ]
  },
  {
   "cell_type": "markdown",
   "id": "4508fefb",
   "metadata": {},
   "source": [
    "## data overview:\n",
    " \n",
    "- the mean and the standart deviaton(std) in quantity are so far from each other, which is mean we have some big orders contains  a large amount of items and probably impact directly affects the price, so the same phenomenon happens there as well.\n",
    "\n",
    "- we have 25900 orders and 4372 customers.\n",
    "\n",
    "- our range time is 2018-11-29 / 2019-12-07(1y,9d). the most popular day is 2019-19-29. this data will be usefull for seasons investigation.\n",
    "\n",
    "## missing and duplicates:\n",
    "\n",
    "- 135080 values are missing the in CustomerID field (24.93% in total)\n",
    "\n",
    "- 1454 values are missing in the Description field (0.27% in total)"
   ]
  },
  {
   "cell_type": "markdown",
   "id": "40c24010",
   "metadata": {},
   "source": [
    "now im going over the columns that need to be chacked.\n",
    "\n",
    "# Preprocessing data and EDA"
   ]
  },
  {
   "cell_type": "code",
   "execution_count": null,
   "id": "3b2f6c80",
   "metadata": {},
   "outputs": [],
   "source": [
    "data.sample(10)"
   ]
  },
  {
   "cell_type": "code",
   "execution_count": null,
   "id": "bfc162a6",
   "metadata": {},
   "outputs": [],
   "source": [
    "data[data['InvoiceNo'].str.startswith('C')]"
   ]
  },
  {
   "cell_type": "markdown",
   "id": "04ef6957",
   "metadata": {},
   "source": [
    "##  Missing values in CustomerID column"
   ]
  },
  {
   "cell_type": "code",
   "execution_count": null,
   "id": "26080cb3",
   "metadata": {},
   "outputs": [],
   "source": [
    "data[data['CustomerID'].isna()].sample(10)"
   ]
  },
  {
   "cell_type": "markdown",
   "id": "aba86ca1",
   "metadata": {},
   "source": [
    "I do not recognize any repeating pattern and therefore I cannot fill them with other truth values, on the other hand I will not delete them, for further analysis purposes.\n",
    "How did it happen? There can be many technical reasons that the information is not saved well, or unregistered customers who have made purchases."
   ]
  },
  {
   "cell_type": "code",
   "execution_count": null,
   "id": "ad7bd9c3",
   "metadata": {},
   "outputs": [],
   "source": [
    "data['CustomerID'] = data['CustomerID'].fillna('unknwon')"
   ]
  },
  {
   "cell_type": "markdown",
   "id": "bd360c8e",
   "metadata": {},
   "source": [
    "## UnitPrice columns"
   ]
  },
  {
   "cell_type": "markdown",
   "id": "a7b1cc4b",
   "metadata": {},
   "source": [
    "What can be a problem with this field are negative values and zero, let's check"
   ]
  },
  {
   "cell_type": "code",
   "execution_count": null,
   "id": "364e6a0b",
   "metadata": {},
   "outputs": [],
   "source": [
    "data[data['UnitPrice'] < 0]"
   ]
  },
  {
   "cell_type": "markdown",
   "id": "acf0840b",
   "metadata": {},
   "source": [
    "According to what is detailed in the description, these are debt payments, and they have nothing to do with the purposes of our analysis, so we will delete them."
   ]
  },
  {
   "cell_type": "code",
   "execution_count": null,
   "id": "19bc2e5c",
   "metadata": {
    "scrolled": true
   },
   "outputs": [],
   "source": [
    "data[data['UnitPrice']==0].sample(10)"
   ]
  },
  {
   "cell_type": "markdown",
   "id": "e3815b9d",
   "metadata": {},
   "source": [
    "You can see that these lines have something in common with the missing values in \"Description\"."
   ]
  },
  {
   "cell_type": "code",
   "execution_count": null,
   "id": "340c9721",
   "metadata": {},
   "outputs": [],
   "source": [
    "len(data[data['UnitPrice']==0])"
   ]
  },
  {
   "cell_type": "markdown",
   "id": "db64a00c",
   "metadata": {},
   "source": [
    "negative values and zero prices affected on revenue, and our main goals is to analyze the rang product, so those rows should be removed.(2512 rows)"
   ]
  },
  {
   "cell_type": "code",
   "execution_count": null,
   "id": "9d801d4e",
   "metadata": {},
   "outputs": [],
   "source": [
    "data = data.query('UnitPrice > 0')"
   ]
  },
  {
   "cell_type": "markdown",
   "id": "8934b2bf",
   "metadata": {},
   "source": [
    "## Quantity column"
   ]
  },
  {
   "cell_type": "code",
   "execution_count": null,
   "id": "27179bc5",
   "metadata": {
    "scrolled": true
   },
   "outputs": [],
   "source": [
    "data.query('Quantity <= 0').sort_values(by='Quantity', ascending = True).head(20)"
   ]
  },
  {
   "cell_type": "markdown",
   "id": "f9dedbf1",
   "metadata": {},
   "source": [
    "its seen tjat all negative quantity is return transaction, cuz all invoiceNo are with 'C' and thats stand for \"correction\".\n",
    "any way, my opinion is thats rows are imported for understending why peploe returned them? so lets keep them and remove them from our datasets. "
   ]
  },
  {
   "cell_type": "code",
   "execution_count": null,
   "id": "cc9e69e9",
   "metadata": {},
   "outputs": [],
   "source": [
    "returned = data.query('Quantity <= 0')\n",
    "len(returned)"
   ]
  },
  {
   "cell_type": "code",
   "execution_count": null,
   "id": "2c1ab985",
   "metadata": {},
   "outputs": [],
   "source": [
    "data = data.query('Quantity > 0')"
   ]
  },
  {
   "cell_type": "markdown",
   "id": "0fe5a14a",
   "metadata": {},
   "source": [
    "# StockCode\n",
    "\n",
    "Apparently, product code names should contain only numbers or letters and numbers together. Let's try to find the exceptions that contain only letters."
   ]
  },
  {
   "cell_type": "code",
   "execution_count": null,
   "id": "53a7b502",
   "metadata": {
    "scrolled": true
   },
   "outputs": [],
   "source": [
    "sorted(data['StockCode'].unique().tolist(), reverse = True)[0:22]"
   ]
  },
  {
   "cell_type": "markdown",
   "id": "2b836fe9",
   "metadata": {},
   "source": [
    "These lines do not seem to be related to the sale or transaction more like operating expenses so I will delete them."
   ]
  },
  {
   "cell_type": "code",
   "execution_count": null,
   "id": "9962d013",
   "metadata": {},
   "outputs": [],
   "source": [
    "irelevant_transaction = ['m',\n",
    " 'gift_0001_50',\n",
    " 'gift_0001_40',\n",
    " 'gift_0001_30',\n",
    " 'gift_0001_20',\n",
    " 'gift_0001_10',\n",
    " 'S',\n",
    " 'POST',\n",
    " 'PADS',\n",
    " 'M',\n",
    " 'DOT',\n",
    " 'DCGSSGIRL',\n",
    " 'DCGSSBOY',\n",
    " 'DCGS0076',\n",
    " 'DCGS0070',\n",
    " 'DCGS0069',\n",
    " 'DCGS0004',\n",
    " 'DCGS0003',\n",
    " 'C2',\n",
    " 'BANK CHARGES',\n",
    " 'B',\n",
    " 'AMAZONFEE']\n",
    "\n",
    "for word in irelevant_transaction:\n",
    "    data = data[~data['StockCode'].str.contains(word)]"
   ]
  },
  {
   "cell_type": "markdown",
   "id": "ca4ac88e",
   "metadata": {},
   "source": [
    "## Description "
   ]
  },
  {
   "cell_type": "code",
   "execution_count": null,
   "id": "21344b03",
   "metadata": {},
   "outputs": [],
   "source": [
    "#cheacking missing value in this field\n",
    "data['Description'].isna().sum()"
   ]
  },
  {
   "cell_type": "markdown",
   "id": "56cd06cc",
   "metadata": {},
   "source": [
    "At first we saw that there were missing values in this field (scroll up to the beginning of the notebook), now you can see that they have disappeared, and this is because in previous steps we deleted rows with negative or zero values and they disappeared along with them."
   ]
  },
  {
   "cell_type": "code",
   "execution_count": null,
   "id": "05fd6980",
   "metadata": {},
   "outputs": [],
   "source": [
    "#looking for desription sales in lowercase\n",
    "data[data['Description'].str.islower()]"
   ]
  },
  {
   "cell_type": "markdown",
   "id": "18327e5e",
   "metadata": {},
   "source": [
    "We also see the same principle regarding the descriptions that appeared in small letters that are no longer in the dataset, this is because they were removed together with the rows that had zero values in the price field because they were not rows that record a normal transaction but all kinds of returns or other expenses that are not a sale."
   ]
  },
  {
   "cell_type": "markdown",
   "id": "22e8df68",
   "metadata": {},
   "source": [
    "# adding fields"
   ]
  },
  {
   "cell_type": "markdown",
   "id": "4b8182b3",
   "metadata": {},
   "source": [
    "## Revenue  "
   ]
  },
  {
   "cell_type": "code",
   "execution_count": null,
   "id": "4a160b4d",
   "metadata": {},
   "outputs": [],
   "source": [
    "data['Revenue'] = data.Quantity * data.UnitPrice\n",
    "data['Revenue'].sum()"
   ]
  },
  {
   "cell_type": "code",
   "execution_count": null,
   "id": "febf31e7",
   "metadata": {},
   "outputs": [],
   "source": [
    "data.head()"
   ]
  },
  {
   "cell_type": "markdown",
   "id": "c0573f15",
   "metadata": {},
   "source": [
    "## Month and Date"
   ]
  },
  {
   "cell_type": "code",
   "execution_count": null,
   "id": "01ab14b4",
   "metadata": {},
   "outputs": [],
   "source": [
    "data['Month'] = data['InvoiceDate'].dt.strftime('%Y-%m')\n",
    "data['Date'] = data['InvoiceDate'].dt.floor('d')\n",
    "\n",
    "data.head()"
   ]
  },
  {
   "cell_type": "markdown",
   "id": "a2b6592d",
   "metadata": {},
   "source": [
    "# Distribution and Outliers"
   ]
  },
  {
   "cell_type": "code",
   "execution_count": null,
   "id": "cb9e37f3",
   "metadata": {},
   "outputs": [],
   "source": [
    "# This function will show us the extreme values from below and above.\n",
    "\n",
    "def eda(column):\n",
    "    lower_limit = np.percentile(data[column], 2)\n",
    "    upper_limit = np.percentile(data[column], 98)\n",
    "    print('Limits for column:', column)\n",
    "    print()\n",
    "    print('lower_limit:',lower_limit)\n",
    "    print('upper_limit:',upper_limit)"
   ]
  },
  {
   "cell_type": "markdown",
   "id": "9fabf24b",
   "metadata": {},
   "source": [
    "## Quantity"
   ]
  },
  {
   "cell_type": "code",
   "execution_count": null,
   "id": "df35fc66",
   "metadata": {
    "scrolled": true
   },
   "outputs": [],
   "source": [
    "data.Quantity.describe()"
   ]
  },
  {
   "cell_type": "code",
   "execution_count": null,
   "id": "18e81539",
   "metadata": {
    "scrolled": true
   },
   "outputs": [],
   "source": [
    "eda('Quantity')"
   ]
  },
  {
   "cell_type": "markdown",
   "id": "1382d4d3",
   "metadata": {},
   "source": [
    "Now we will explore the extreme values"
   ]
  },
  {
   "cell_type": "code",
   "execution_count": null,
   "id": "2a169894",
   "metadata": {},
   "outputs": [],
   "source": [
    "quant_out = data.query('Quantity < 1 or Quantity > 72')\n",
    "quant_out.head()"
   ]
  },
  {
   "cell_type": "code",
   "execution_count": null,
   "id": "e8138906",
   "metadata": {},
   "outputs": [],
   "source": [
    "quant_out.sort_values(by='Quantity').head()"
   ]
  },
  {
   "cell_type": "code",
   "execution_count": null,
   "id": "d789225a",
   "metadata": {},
   "outputs": [],
   "source": [
    "quant_out.sort_values(by='Quantity',ascending = False).head(10)"
   ]
  },
  {
   "cell_type": "code",
   "execution_count": null,
   "id": "da3f9a28",
   "metadata": {},
   "outputs": [],
   "source": [
    "quant_out.CustomerID.nunique()/len(quant_out)"
   ]
  },
  {
   "cell_type": "markdown",
   "id": "58bd0f17",
   "metadata": {},
   "source": [
    "**Immediate conclusion**: \n",
    "there are no specific customers who make the big purchases. So there is nothing to invest in finding    the most profitable customers, there are too many of them."
   ]
  },
  {
   "cell_type": "code",
   "execution_count": null,
   "id": "336da21b",
   "metadata": {},
   "outputs": [],
   "source": [
    "print('the precentage of quantity outliers from all dataset is: {:.2%}'.format(len(quant_out)/len(data)))"
   ]
  },
  {
   "cell_type": "markdown",
   "id": "50f9cb3e",
   "metadata": {},
   "source": [
    "this is small precentage and could be removed, but lets see how much ther share from revenue."
   ]
  },
  {
   "cell_type": "code",
   "execution_count": null,
   "id": "14bf8f2e",
   "metadata": {},
   "outputs": [],
   "source": [
    "print('Quantity outliers % in Revenue: {:.2%}'.format(quant_out['Revenue'].sum()/data['Revenue'].sum()))"
   ]
  },
  {
   "cell_type": "markdown",
   "id": "fc4f3602",
   "metadata": {},
   "source": [
    "wow! its a big share. so i will not removed them."
   ]
  },
  {
   "cell_type": "code",
   "execution_count": null,
   "id": "2abfce5e",
   "metadata": {},
   "outputs": [],
   "source": [
    "sns.histplot(data.query('1 < Quantity < 72')['Quantity'], bins=10)\n",
    "plt.title('Quantity distribution without outliers')\n",
    "plt.show()"
   ]
  },
  {
   "cell_type": "markdown",
   "id": "75fdb5de",
   "metadata": {},
   "source": [
    "## UnitPrice"
   ]
  },
  {
   "cell_type": "code",
   "execution_count": null,
   "id": "41086ffe",
   "metadata": {},
   "outputs": [],
   "source": [
    "data.UnitPrice.describe()"
   ]
  },
  {
   "cell_type": "code",
   "execution_count": null,
   "id": "a15175e7",
   "metadata": {},
   "outputs": [],
   "source": [
    "eda('UnitPrice')"
   ]
  },
  {
   "cell_type": "code",
   "execution_count": null,
   "id": "57ea7467",
   "metadata": {},
   "outputs": [],
   "source": [
    "UnitPrice_out = data.query('UnitPrice < 0.39 or UnitPrice > 12.75')\n",
    "UnitPrice_out.head()"
   ]
  },
  {
   "cell_type": "code",
   "execution_count": null,
   "id": "95c512f3",
   "metadata": {},
   "outputs": [],
   "source": [
    "UnitPrice_out.sort_values(by ='UnitPrice').head(10)"
   ]
  },
  {
   "cell_type": "code",
   "execution_count": null,
   "id": "ed8a26c6",
   "metadata": {},
   "outputs": [],
   "source": [
    "UnitPrice_out.sort_values(by ='UnitPrice',ascending=False).head(15)"
   ]
  },
  {
   "cell_type": "code",
   "execution_count": null,
   "id": "e4b5f579",
   "metadata": {},
   "outputs": [],
   "source": [
    "print('the precentage of UnitPrice outliers from all dataset is: {:.2%}'.format(len(UnitPrice_out)/len(data)))"
   ]
  },
  {
   "cell_type": "code",
   "execution_count": null,
   "id": "4bd9ae4d",
   "metadata": {},
   "outputs": [],
   "source": [
    "print('UnitPrice outliers % in Revenue: {:.2%}'.format(UnitPrice_out['Revenue'].sum()/data['Revenue'].sum()))"
   ]
  },
  {
   "cell_type": "code",
   "execution_count": null,
   "id": "7ec9c078",
   "metadata": {},
   "outputs": [],
   "source": [
    "sns.histplot(data.query('0.39 < UnitPrice < 12.75')['UnitPrice'], bins=10)\n",
    "plt.title('UnitPrice distribution without outliers')\n",
    "plt.show()"
   ]
  },
  {
   "cell_type": "markdown",
   "id": "d3b97a58",
   "metadata": {},
   "source": [
    "## Revenue"
   ]
  },
  {
   "cell_type": "code",
   "execution_count": null,
   "id": "32e99875",
   "metadata": {},
   "outputs": [],
   "source": [
    "data.Revenue.describe()"
   ]
  },
  {
   "cell_type": "code",
   "execution_count": null,
   "id": "1151c13e",
   "metadata": {},
   "outputs": [],
   "source": [
    "eda('Revenue')"
   ]
  },
  {
   "cell_type": "code",
   "execution_count": null,
   "id": "2aac1180",
   "metadata": {},
   "outputs": [],
   "source": [
    "sns.histplot(data.query('0.83 < Revenue < 112.5')['Revenue'], bins=10)\n",
    "plt.title('Revenue Distrubition')\n",
    "plt.show()"
   ]
  },
  {
   "cell_type": "markdown",
   "id": "892dc40b",
   "metadata": {},
   "source": [
    "## preprocess summary\n",
    "\n",
    "- We identified invoices that are actually refund/cancellation of transaction (C) and removed them along with the lines where a negative price and quantity appeared.\n",
    "\n",
    "\n",
    "- Customers who did not have an ID number filled in 'unknwon'.\n",
    "\n",
    "\n",
    "- We located the unusual code names of the products and removed them. \n",
    "\n",
    "- For example, commissions for sales websites, gift cards, etc.\n",
    "\n",
    "\n",
    "- We added a profit column, date day - month - year, month.\n",
    "\n",
    "\n",
    "- We presented the exceptions in the three numerical columns (income, quantity, price unit).\n",
    "\n",
    "- And since the exceptions were a large percentage of the income, it was decided to keep them and not delete them.\n",
    "\n",
    "- We removed about 8% rows from the original dataset."
   ]
  },
  {
   "cell_type": "markdown",
   "id": "d888c3f9",
   "metadata": {},
   "source": [
    "# Categorization"
   ]
  },
  {
   "cell_type": "markdown",
   "id": "d62e8c11",
   "metadata": {},
   "source": [
    "## price range categories"
   ]
  },
  {
   "cell_type": "code",
   "execution_count": null,
   "id": "75f8abbc",
   "metadata": {},
   "outputs": [],
   "source": [
    "print(\"25% price range:\",np.percentile(data['UnitPrice'], 25))\n",
    "print(\"50% price range:\",np.percentile(data['UnitPrice'], 50))\n",
    "print(\"75% price range:\",np.percentile(data['UnitPrice'], 75))\n",
    "print(\"95% price range:\",np.percentile(data['UnitPrice'], 95))"
   ]
  },
  {
   "cell_type": "code",
   "execution_count": null,
   "id": "45564ca8",
   "metadata": {},
   "outputs": [],
   "source": [
    "price_ranges = {\n",
    "    (0, 0): 'free',\n",
    "    (0, 1.25): 'low',\n",
    "    (1.25, 2.07): 'medium',\n",
    "    (2.07, 4.13): 'high medium',\n",
    "    (4.13, 9.94): 'high',\n",
    "    (9.94, float('inf')): 'elite'\n",
    "}\n",
    "\n",
    "def price_cat(i):\n",
    "    for (start, end), label in price_ranges.items():\n",
    "        if start < i <= end:\n",
    "            return label \n"
   ]
  },
  {
   "cell_type": "code",
   "execution_count": null,
   "id": "23002c16",
   "metadata": {
    "scrolled": true
   },
   "outputs": [],
   "source": [
    "data['Price_Range'] = data['UnitPrice'].apply(price_cat)\n",
    "sns.histplot(data['Price_Range'],bins=10)\n",
    "plt.title('Price_Range Distribution')\n",
    "plt.show()"
   ]
  },
  {
   "cell_type": "markdown",
   "id": "9d39ce9e",
   "metadata": {},
   "source": [
    "## RFM\n",
    "\n",
    "Recency (R) - the time that has passed since the customer made the last purchase.\n",
    "\n",
    "Frequency (F) - how many total purchases the customer made.\n",
    "\n",
    "Monetary (M) - the total amount of the customer's purchases in the business."
   ]
  },
  {
   "cell_type": "code",
   "execution_count": null,
   "id": "14d87748",
   "metadata": {},
   "outputs": [],
   "source": [
    "# removing uncompleted month to invoid negative values in the \"recency\" column.\n",
    "data=data.query('InvoiceDate > \"2018-12-01\" and InvoiceDate < \"2019-12-01\"')"
   ]
  },
  {
   "cell_type": "code",
   "execution_count": null,
   "id": "1ead5be4",
   "metadata": {},
   "outputs": [],
   "source": [
    "data['Date'].max()"
   ]
  },
  {
   "cell_type": "code",
   "execution_count": null,
   "id": "235d2164",
   "metadata": {},
   "outputs": [],
   "source": [
    "last_date=dt.datetime(2019,11,30)\n",
    "last_date"
   ]
  },
  {
   "cell_type": "code",
   "execution_count": null,
   "id": "5deb4ccc",
   "metadata": {},
   "outputs": [],
   "source": [
    "rfm=data.groupby('Description').agg({\n",
    "    'Date': lambda x: (last_date-x.max()).days,\n",
    "    'InvoiceNo': 'nunique',\n",
    "    'Revenue':'sum'\n",
    "}).reset_index()\n",
    "rfm.rename(columns={'Date':'recency',\n",
    "                    'InvoiceNo':'frequency',\n",
    "                    'Revenue':'monetary'},inplace=True)\n",
    "rfm.head(10)"
   ]
  },
  {
   "cell_type": "markdown",
   "id": "f7ead488",
   "metadata": {},
   "source": [
    "Now I'm going to make this metric simpler and more useful. The numbers from 1-4 symbolize the level of value, the frequency, and the most recently bought in descending order."
   ]
  },
  {
   "cell_type": "code",
   "execution_count": null,
   "id": "5c19bede",
   "metadata": {
    "scrolled": true
   },
   "outputs": [],
   "source": [
    "rfm['R']=pd.qcut(rfm.recency,5,[1,2,3,4],duplicates = 'drop')\n",
    "rfm['F']=pd.qcut(rfm.frequency,4,[4,3,2,1])\n",
    "rfm['M']=pd.qcut(rfm.monetary,4,[4,3,2,1])\n",
    "rfm.head()"
   ]
  },
  {
   "cell_type": "markdown",
   "id": "6de240c2",
   "metadata": {},
   "source": [
    "dividing the data into segment."
   ]
  },
  {
   "cell_type": "code",
   "execution_count": null,
   "id": "15f9b1cc",
   "metadata": {},
   "outputs": [],
   "source": [
    "def rfm_name(row):\n",
    "    \n",
    "    if row['R'] == 1:\n",
    "        r_name = 'recent'\n",
    "    if row['R'] == 2:\n",
    "        r_name = 'less recent'\n",
    "    if row['R'] == 3:\n",
    "        r_name = 'old'\n",
    "    if row['R'] == 4:\n",
    "        r_name = 'oldest'\n",
    "    \n",
    "    if row['F'] == 1:\n",
    "        f_name = 'top seller'\n",
    "    if row['F'] == 2:\n",
    "        f_name = 'popular'\n",
    "    if row['F'] == 3:\n",
    "        f_name = 'unpopular'\n",
    "    if row['F'] == 4:\n",
    "        f_name = 'rare'\n",
    "        \n",
    "    if row['M'] == 1:\n",
    "        m_name = 'best value'\n",
    "    if row['M'] == 2:\n",
    "        m_name = 'good value'\n",
    "    if row['M'] == 3:\n",
    "        m_name = 'low value'\n",
    "    if row['M'] == 4:\n",
    "        m_name = 'cheap'\n",
    "    \n",
    "    return r_name + \" / \" + f_name + \" / \" + m_name\n",
    " "
   ]
  },
  {
   "cell_type": "code",
   "execution_count": null,
   "id": "8b1cf166",
   "metadata": {},
   "outputs": [],
   "source": [
    "rfm['RFM_segment'] = rfm.apply(rfm_name, axis=1)\n",
    "rfm.head()"
   ]
  },
  {
   "cell_type": "markdown",
   "id": "5c95d8e8",
   "metadata": {},
   "source": [
    "now lets merge the rfm df with the source."
   ]
  },
  {
   "cell_type": "code",
   "execution_count": null,
   "id": "a4f2c574",
   "metadata": {},
   "outputs": [],
   "source": [
    "data=data.merge(right=rfm[['Description','R','F','M','RFM_segment']], on='Description', how='left')\n",
    "data.head()"
   ]
  },
  {
   "cell_type": "code",
   "execution_count": null,
   "id": "bd1f4399",
   "metadata": {
    "scrolled": false
   },
   "outputs": [],
   "source": [
    "data.groupby('RFM_segment')['Revenue'].sum().reset_index().sort_values(by='Revenue',ascending=False)"
   ]
  },
  {
   "cell_type": "markdown",
   "id": "21eaead8",
   "metadata": {},
   "source": [
    "The more frequently the product is found, the more it is sold and increases the income. In the last chapter of the project I described by drawing what the most profitable products are and which category is the most profitable."
   ]
  },
  {
   "cell_type": "markdown",
   "id": "e9aa2d7d",
   "metadata": {},
   "source": [
    "## Division into categories"
   ]
  },
  {
   "cell_type": "code",
   "execution_count": null,
   "id": "cd84c76b",
   "metadata": {
    "scrolled": false
   },
   "outputs": [],
   "source": [
    "Lem = WordNetLemmatizer()\n",
    "queries = data['Description'].unique()\n",
    "\n",
    "splitwords = [nltk.word_tokenize(str(query)) for query in queries]\n",
    "\n",
    "word_list = []\n",
    "for sublist in splitwords:\n",
    "    for item in sublist:\n",
    "        word_list.append(item)\n",
    "        \n",
    "        \n",
    "lemmas = [Lem.lemmatize(w, pos = 'n') for w in word_list]\n",
    "\n",
    "lemmas[:20]"
   ]
  },
  {
   "cell_type": "code",
   "execution_count": null,
   "id": "05930b6a",
   "metadata": {},
   "outputs": [],
   "source": [
    "# Use the pos_tag() function to tag the words as nouns, verbs, etc.\n",
    "lemmas = [str(x) for x in lemmas] #convert to srtings\n",
    "lemmas = [x.lower() for x in lemmas] #convert to lowercase for nltk\n",
    "tagged = nltk.pos_tag(lemmas)\n",
    "\n",
    "# Use a list comprehension to select the nouns\n",
    "nouns_word = [word for word, tag in tagged if tag == 'NN']\n",
    "nouns_word[:20]"
   ]
  },
  {
   "cell_type": "code",
   "execution_count": null,
   "id": "52cd0e46",
   "metadata": {},
   "outputs": [],
   "source": [
    "len(nouns_word)"
   ]
  },
  {
   "cell_type": "markdown",
   "id": "8b8d3055",
   "metadata": {},
   "source": [
    "we got a large number of nouns, It would take a lot of precious time if I go through them one by one and try to assign them to a certain category, so I will take the 150 most common roots in the list and then it will make more sense to categorize them."
   ]
  },
  {
   "cell_type": "code",
   "execution_count": null,
   "id": "fba5e4df",
   "metadata": {
    "scrolled": true
   },
   "outputs": [],
   "source": [
    "#count each noun\n",
    "counter_nouns = Counter(nouns_word)\n",
    "\n",
    "#from list to dict, for sort.\n",
    "top_nouns = pd.DataFrame.from_dict(counter_nouns, orient='index', columns=['count'])\n",
    "top_nouns.reset_index(inplace=True)\n",
    "top_nouns=top_nouns.sort_values(by='count', ascending=False).head(150)\n",
    "\n",
    "#back to list\n",
    "top_nouns = top_nouns['index'].to_list()\n",
    "top_nouns"
   ]
  },
  {
   "cell_type": "markdown",
   "id": "03c6017f",
   "metadata": {},
   "source": [
    "now i will clean the list."
   ]
  },
  {
   "cell_type": "code",
   "execution_count": null,
   "id": "3722dc40",
   "metadata": {},
   "outputs": [],
   "source": [
    "top_nouns_clean = [\n",
    " 'bag',\n",
    " 'box',\n",
    " 'holder',\n",
    " 'decoration',\n",
    " 'necklace',\n",
    " 'card',\n",
    " 'bracelet',\n",
    " 'cover',\n",
    " 'mug',\n",
    " 'candle',\n",
    " 'mirror',\n",
    " 'frame',\n",
    " 'cream',\n",
    " 'bowl',\n",
    " 'clock',\n",
    " 'charm',\n",
    " 'jar',\n",
    " 'hook',\n",
    " 'bottle',\n",
    " 'tray',\n",
    " 'cup',\n",
    " 'cutlery',\n",
    " 'plate',\n",
    " 'book',\n",
    " 'tree',\n",
    " 'trinket',\n",
    " 'basket',\n",
    " 'ring',\n",
    " 'hanger',\n",
    " 'doormat',\n",
    " 'notebook',\n",
    " 'bell',\n",
    " 'warmer',\n",
    " 'wallet',\n",
    " 'picture',\n",
    " 'parasol',\n",
    " 'towel',\n",
    " 'chain',\n",
    " 'tissue',\n",
    " 'doll',\n",
    " 'jug',\n",
    " 'stand',\n",
    " 'sticker',\n",
    " 'bin',\n",
    " 'flag',\n",
    " 'container']"
   ]
  },
  {
   "cell_type": "code",
   "execution_count": null,
   "id": "e12ba2f0",
   "metadata": {},
   "outputs": [],
   "source": [
    "data['Description'] = data['Description'].str.lower()"
   ]
  },
  {
   "cell_type": "code",
   "execution_count": null,
   "id": "4b9dadca",
   "metadata": {},
   "outputs": [],
   "source": [
    "def match(x):\n",
    "    for i, item in enumerate(top_nouns_clean):\n",
    "        if item in x:\n",
    "            return item\n",
    "    return 'Other'\n",
    "\n",
    "data['Category'] = data['Description'].apply(match)\n",
    "\n",
    "data.head()"
   ]
  },
  {
   "cell_type": "code",
   "execution_count": null,
   "id": "be3055cd",
   "metadata": {},
   "outputs": [],
   "source": [
    "data.stb.freq(['Category'])"
   ]
  },
  {
   "cell_type": "markdown",
   "id": "d425cf35",
   "metadata": {},
   "source": [
    "now we can move on to sales anlysis."
   ]
  },
  {
   "cell_type": "markdown",
   "id": "676310cd",
   "metadata": {},
   "source": [
    "<div class=\"alert alert-block alert-warning\">\n",
    "<b>Team Lead comment:</b> Analysis of categories??\n",
    "    \n",
    "    \n",
    "<b>Student comment:</b> I combined all the analyzes and visualizations in another chapter.\n",
    "</div>"
   ]
  },
  {
   "cell_type": "markdown",
   "id": "b9454f35",
   "metadata": {},
   "source": [
    "## Sales Analysis"
   ]
  },
  {
   "cell_type": "markdown",
   "id": "c10b9533",
   "metadata": {},
   "source": [
    "### top 10 ordered"
   ]
  },
  {
   "cell_type": "code",
   "execution_count": null,
   "id": "a73d2271",
   "metadata": {},
   "outputs": [],
   "source": [
    "top_ordered = data['Description'].value_counts().head(10).reset_index()\n",
    "top_ordered = top_ordered.rename(columns={'index' : 'item','Description':'num_purchases'})\n",
    "\n",
    "top_ordered"
   ]
  },
  {
   "cell_type": "code",
   "execution_count": null,
   "id": "f27301ff",
   "metadata": {
    "scrolled": false
   },
   "outputs": [],
   "source": [
    "plt.figure(figsize=(15,5))\n",
    "\n",
    "sns.barplot(x='num_purchases',y='item', data=top_ordered)\n",
    "\n",
    "for i, v in enumerate(top_ordered.num_purchases):\n",
    "    plt.text(v, i, str(round(v)), color='black')\n",
    "\n",
    "plt.title(\"Top 10 items ordered\",fontsize=20)\n",
    "plt.xlabel('Count')\n",
    "plt.show()"
   ]
  },
  {
   "cell_type": "markdown",
   "id": "28e0ae83",
   "metadata": {},
   "source": [
    "- The most purchased products are first of all products for home use and products related to food preparation and storage.\n",
    "\n",
    "**Recommendation:** expand the range of products related to home accessories, home kitchen, food packaging solutions."
   ]
  },
  {
   "cell_type": "markdown",
   "id": "70e52ba5",
   "metadata": {},
   "source": [
    "### Sales by Price_Range"
   ]
  },
  {
   "cell_type": "code",
   "execution_count": null,
   "id": "2991a880",
   "metadata": {},
   "outputs": [],
   "source": [
    "price_range_data = data.groupby('Price_Range').agg({'InvoiceNo':'count','Quantity':'sum','Revenue':'sum'}).reset_index()\n",
    "price_range_data = price_range_data.rename(columns={'InvoiceNo':'num_purchases'})\n",
    "price_range_data"
   ]
  },
  {
   "cell_type": "code",
   "execution_count": null,
   "id": "84598d87",
   "metadata": {
    "scrolled": true
   },
   "outputs": [],
   "source": [
    "plt.figure(figsize=(15,5))\n",
    "\n",
    "ax = sns.barplot(x='Price_Range',y='Quantity', data=price_range_data)\n",
    "\n",
    "# adding the ratio number of each price range\n",
    "for p in ax.patches:\n",
    "    x = p.get_x() + p.get_width() / 2\n",
    "    y = p.get_height()\n",
    "    ratio = y / sum(price_range_data['Quantity'])  # Calculate the ratio\n",
    "    ax.text(x, y, f'{ratio:.2%}', ha='center', va='bottom')\n",
    "\n",
    "\n",
    "plt.title('Quantity Distribution by range price',fontsize=20)\n",
    "plt.ylabel('Quantity(in milion)')\n",
    "plt.show()"
   ]
  },
  {
   "cell_type": "markdown",
   "id": "3cbaba5c",
   "metadata": {},
   "source": [
    "## conclusion:\n",
    "\n",
    "- The results connect with reality, and as a rule you can see that as the price increases, there is a decrease in price (negative correlation)."
   ]
  },
  {
   "cell_type": "markdown",
   "id": "748fcbbb",
   "metadata": {},
   "source": [
    "### Sales by Category"
   ]
  },
  {
   "cell_type": "code",
   "execution_count": null,
   "id": "5680c823",
   "metadata": {},
   "outputs": [],
   "source": [
    "Category_Sales = data.groupby('Category').agg({'InvoiceNo':'count','Quantity':'sum','Revenue':'sum'}).reset_index()\n",
    "Category_Sales = Category_Sales.rename(columns={'InvoiceNo':'num_purcheses'}).sort_values(by='num_purcheses',ascending=False)\n",
    "\n",
    "Category_Sales"
   ]
  },
  {
   "cell_type": "code",
   "execution_count": null,
   "id": "0c4b10b1",
   "metadata": {},
   "outputs": [],
   "source": [
    "plt.figure(figsize=(15,15))\n",
    "\n",
    "sns.barplot(x='num_purcheses',y='Category', data=Category_Sales)\n",
    "\n",
    "for i, v in enumerate(Category_Sales.num_purcheses):\n",
    "    plt.text(v, i,str(round(v)), color='black')\n",
    "\n",
    "plt.title(\"purcheses by Category\",fontsize=25)\n",
    "plt.xlabel('Count')\n",
    "plt.ylabel('Category',size = 25)\n",
    "plt.show()"
   ]
  },
  {
   "cell_type": "code",
   "execution_count": null,
   "id": "d56d3300",
   "metadata": {
    "scrolled": true
   },
   "outputs": [],
   "source": [
    "plt.figure(figsize=(15, 15))\n",
    "\n",
    "# Create the bar plot\n",
    "ax = sns.barplot(x='Quantity', y='Category', data=Category_Sales.sort_values(by='Quantity', ascending=False))\n",
    "\n",
    "# Add text annotations\n",
    "for i, v in enumerate(Category_Sales.Quantity):\n",
    "    plt.text(v, i, str(round(v)), color='black', ha='left', va='center')\n",
    "\n",
    "plt.title(\"Quantity by Category\", fontsize=25)\n",
    "plt.xlabel('Count')\n",
    "plt.ylabel('Category', size=25)\n",
    "plt.show()"
   ]
  },
  {
   "cell_type": "markdown",
   "id": "dbf1243b",
   "metadata": {},
   "source": [
    "\n",
    "## Summary:\n",
    "\n",
    "- The top five (identified) categories in the number of purchases are: bag,\tbox, holder, card, decoration. (descending order)\n",
    "\n",
    "\n",
    "- The top five (identified) categories in the quantity are: bag, holder, box, card, decoration. (descending order)"
   ]
  },
  {
   "cell_type": "markdown",
   "id": "90631d1c",
   "metadata": {},
   "source": [
    "## sales by months"
   ]
  },
  {
   "cell_type": "code",
   "execution_count": null,
   "id": "9ae39128",
   "metadata": {},
   "outputs": [],
   "source": [
    "Sales_months = data.groupby('Month').agg({'InvoiceNo':'count','Quantity':'sum','Revenue':'sum'}).reset_index()\n",
    "Sales_months = Sales_months.rename(columns={'InvoiceNo': 'num_purchases'})\n",
    "\n",
    "Sales_months"
   ]
  },
  {
   "cell_type": "code",
   "execution_count": null,
   "id": "1f2c1691",
   "metadata": {
    "scrolled": true
   },
   "outputs": [],
   "source": [
    "plt.figure(figsize=(15, 10))\n",
    "\n",
    "# Create the bar plot\n",
    "ax = sns.barplot(x='num_purchases', y='Month', data=Sales_months)\n",
    "\n",
    "# Add text annotations\n",
    "for i, v in enumerate(Sales_months.num_purchases):\n",
    "    plt.text(v, i, str(round(v)), color='black', ha='left', va='center')\n",
    "\n",
    "plt.title(\"purchases by Month\", fontsize=25)\n",
    "plt.xlabel('Count')\n",
    "plt.ylabel('Month', size=25)\n",
    "plt.tight_layout()\n",
    "plt.show()"
   ]
  },
  {
   "cell_type": "code",
   "execution_count": null,
   "id": "7e3338ce",
   "metadata": {
    "scrolled": true
   },
   "outputs": [],
   "source": [
    "plt.figure(figsize=(15, 10))\n",
    "\n",
    "# Create the bar plot\n",
    "ax = sns.barplot(x='Quantity', y='Month', data=Sales_months)\n",
    "\n",
    "# Add text annotations\n",
    "for i, v in enumerate(Sales_months.Quantity):\n",
    "    plt.text(v, i, str(round(v)), color='black', ha='left', va='center')\n",
    "\n",
    "plt.title(\"Quantity by Month\", fontsize=25)\n",
    "plt.xlabel('Count', size=15)\n",
    "plt.ylabel('Month', size=25)\n",
    "plt.tight_layout()\n",
    "plt.show()"
   ]
  },
  {
   "cell_type": "markdown",
   "id": "afb25744",
   "metadata": {},
   "source": [
    "- There is a strong relationship between the number of purchases and the amount of products, the months are almost identical in both histograms."
   ]
  },
  {
   "cell_type": "markdown",
   "id": "2ef77c9e",
   "metadata": {},
   "source": [
    "## Revenue Analysis"
   ]
  },
  {
   "cell_type": "markdown",
   "id": "1ef338f7",
   "metadata": {},
   "source": [
    "### top 10 profit items"
   ]
  },
  {
   "cell_type": "code",
   "execution_count": null,
   "id": "b6f77c3e",
   "metadata": {
    "scrolled": true
   },
   "outputs": [],
   "source": [
    "top_profit_item = data.groupby('Description')['Revenue'].sum().reset_index().sort_values(by='Revenue',ascending=False)[:10]\n",
    "top_profit_item"
   ]
  },
  {
   "cell_type": "code",
   "execution_count": null,
   "id": "aa255ffb",
   "metadata": {
    "scrolled": true
   },
   "outputs": [],
   "source": [
    "plt.figure(figsize=(15, 5),dpi= 80)\n",
    "\n",
    "# Create the bar plot\n",
    "ax = sns.barplot(x='Revenue', y='Description', data=top_profit_item)\n",
    "\n",
    "# Add text annotations\n",
    "for i, v in enumerate(top_profit_item.Revenue):\n",
    "    plt.text(v, i, str(round(v)), color='black', ha='left', va='center')\n",
    "\n",
    "plt.title(\"top 10 most profitable items\", fontsize=25)\n",
    "plt.xlabel('Count', size=15)\n",
    "plt.ylabel('items', size=25)\n",
    "plt.tight_layout()\n",
    "plt.show()"
   ]
  },
  {
   "cell_type": "markdown",
   "id": "a1a46ba6",
   "metadata": {},
   "source": [
    "- Note: These products do not represent final profit, because it is determined by the cost of the product and operating expenses, which is information that does not exist here"
   ]
  },
  {
   "cell_type": "markdown",
   "id": "1e97ad3f",
   "metadata": {},
   "source": [
    "### Revenue by Price_Range"
   ]
  },
  {
   "cell_type": "code",
   "execution_count": null,
   "id": "952a7144",
   "metadata": {},
   "outputs": [],
   "source": [
    "plt.figure(figsize=(15,5))\n",
    "\n",
    "ax = sns.barplot(x='Price_Range',y='Revenue', data=price_range_data)\n",
    "\n",
    "# adding the ratio number of each price range\n",
    "for p in ax.patches:\n",
    "    x = p.get_x() + p.get_width() / 2\n",
    "    y = p.get_height()\n",
    "    ratio = y / sum(price_range_data['Revenue'])  # Calculate the ratio\n",
    "    ax.text(x, y, f'{ratio:.2%}', ha='center', va='bottom')\n",
    "\n",
    "\n",
    "plt.title('Revenue Distribution by range price',fontsize=20)\n",
    "plt.ylabel('Revenue(in milion)')\n",
    "plt.show()"
   ]
  },
  {
   "cell_type": "markdown",
   "id": "3189f9bf",
   "metadata": {},
   "source": [
    "- Note: Unlike the quantity and number of purchases, the highest income is actually from the \" \" category, which means that what is sold more does not necessarily bring the most income."
   ]
  },
  {
   "cell_type": "markdown",
   "id": "ca48f7c2",
   "metadata": {},
   "source": [
    "### Revenue by Category"
   ]
  },
  {
   "cell_type": "code",
   "execution_count": null,
   "id": "52c4c3ee",
   "metadata": {},
   "outputs": [],
   "source": [
    "plt.figure(figsize=(15,10))\n",
    "\n",
    "ax = sns.barplot(x='Revenue',y='Category', data=Category_Sales.sort_values(by='Revenue',ascending=False).head(10))\n",
    "\n",
    "for i, v in enumerate(top_profit_item.Revenue):\n",
    "    plt.text(v, i, str(round(v)), color='black', ha='left', va='center')\n",
    "\n",
    "plt.title('top ten profitable category ',fontsize=30)\n",
    "plt.ylabel('Category',size=25)\n",
    "plt.xlabel('Revenue(in milion)',size=25)\n",
    "plt.show()"
   ]
  },
  {
   "cell_type": "markdown",
   "id": "54eae259",
   "metadata": {},
   "source": [
    "### Revenue by Month"
   ]
  },
  {
   "cell_type": "code",
   "execution_count": null,
   "id": "4ecab22f",
   "metadata": {},
   "outputs": [],
   "source": [
    "plt.figure(figsize=(15,10))\n",
    "\n",
    "ax = sns.barplot(x='Month',y='Revenue', data=Sales_months)\n",
    "\n",
    "for p in ax.patches:\n",
    "    x = p.get_x() + p.get_width() / 2\n",
    "    y = p.get_height()\n",
    "    ratio = y / sum(Sales_months['Revenue'])  # Calculate the ratio\n",
    "    ax.text(x, y, f'{ratio:.2%}', ha='center', va='bottom')\n",
    "\n",
    "plt.title('Revenue by Month ',fontsize=30)\n",
    "plt.ylabel('Revenue(in milion)',size=25)\n",
    "plt.xlabel('Months',size=25)\n",
    "plt.show()"
   ]
  },
  {
   "cell_type": "markdown",
   "id": "a7fad755",
   "metadata": {},
   "source": [
    "- The months of June to August are almost the same, from the month of September there is a serious increase that continues until the month of November which is the peak.\n",
    "\n",
    "- See also linear graph."
   ]
  },
  {
   "cell_type": "markdown",
   "id": "4a7449f8",
   "metadata": {},
   "source": [
    "### Revenue by Months"
   ]
  },
  {
   "cell_type": "code",
   "execution_count": null,
   "id": "f82e8121",
   "metadata": {},
   "outputs": [],
   "source": [
    "plt.figure(figsize=(15, 5))\n",
    "sns.lineplot(data=Sales_months, x=\"Month\", y=\"Revenue\")\n",
    "plt.title(\"Revenue by Months\",size=25)\n",
    "plt.show()"
   ]
  },
  {
   "cell_type": "markdown",
   "id": "14170ee8",
   "metadata": {},
   "source": [
    "### Revenue by price range"
   ]
  },
  {
   "cell_type": "code",
   "execution_count": null,
   "id": "0c705431",
   "metadata": {},
   "outputs": [],
   "source": [
    "price_range_data"
   ]
  },
  {
   "cell_type": "code",
   "execution_count": null,
   "id": "f8a4f8b5",
   "metadata": {},
   "outputs": [],
   "source": [
    "labels = ['elite', 'high', 'high medium', 'low', 'medium']\n",
    "revenue = [936890.48, 2239804.13, 2647086.42, 1898839.33, 1624586.84]\n",
    "\n",
    "# Plot\n",
    "plt.figure(figsize=(8, 8))\n",
    "plt.pie(revenue, labels=labels, autopct='%1.1f%%', startangle=90)\n",
    "plt.title('Revenue Share by Price Range',size=25)\n",
    "\n",
    "plt.axis('equal')\n",
    "plt.show()"
   ]
  },
  {
   "cell_type": "markdown",
   "id": "f1103969",
   "metadata": {},
   "source": [
    "**Recommendation:** expand the range of products whose price belongs to the \"high medium\" category."
   ]
  },
  {
   "cell_type": "markdown",
   "id": "404d66c9",
   "metadata": {},
   "source": [
    "## Returned Products"
   ]
  },
  {
   "cell_type": "code",
   "execution_count": null,
   "id": "62edb4bb",
   "metadata": {},
   "outputs": [],
   "source": [
    "returned['Quantity'] *= -1\n",
    "returned['Revenue'] = returned['Quantity'] * returned['UnitPrice']\n",
    "\n",
    "#the most ten returned product\n",
    "returned.groupby('Description')['InvoiceNo'].count().reset_index().sort_values(by='InvoiceNo',ascending=False).head(12)"
   ]
  },
  {
   "cell_type": "markdown",
   "id": "5d341201",
   "metadata": {},
   "source": [
    "\"REGENCY CAKESTAND 3 TIER\" it's the product that is much addicted so it makes sense that it will also have more cancellation."
   ]
  },
  {
   "cell_type": "code",
   "execution_count": null,
   "id": "91abf76d",
   "metadata": {
    "scrolled": true
   },
   "outputs": [],
   "source": [
    "print('the share of returned from all dataset is: {:.2%}'.format(len(returned)/len(data)))"
   ]
  },
  {
   "cell_type": "code",
   "execution_count": null,
   "id": "d69cfcad",
   "metadata": {
    "scrolled": true
   },
   "outputs": [],
   "source": [
    "print('the sum of money back for returned product is: {:.2f}'.format(returned.Revenue.sum()))"
   ]
  },
  {
   "cell_type": "code",
   "execution_count": null,
   "id": "9faff517",
   "metadata": {
    "scrolled": true
   },
   "outputs": [],
   "source": [
    "print('the sum of the quntity that returned: {}'.format(returned.Quantity.sum()))\n",
    "print('the share from all quantity that was sale: {:.2%}'.format(returned.Quantity.sum()/data.Quantity.sum()))"
   ]
  },
  {
   "cell_type": "markdown",
   "id": "73d8e229",
   "metadata": {},
   "source": [
    "## Checking hypotheses:\n",
    "\n",
    "- Differences in avarge unit price between price groups \"low\" and \"medium\".\n",
    "\n",
    "- Differences in avarge unit price between top 2 ordered product."
   ]
  },
  {
   "cell_type": "markdown",
   "id": "d949fbac",
   "metadata": {},
   "source": [
    "im going to use in The stats.f_oneway() test, also known as the one-way ANOVA (Analysis of Variance) test, is a statistical test used to determine whether there are significant differences between the means of two or more groups. It assesses whether the variability between group means is greater than the variability within the groups.\n",
    "its will help me to check those tow hypotheses."
   ]
  },
  {
   "cell_type": "markdown",
   "id": "05caeb19",
   "metadata": {},
   "source": [
    "### preparing the data for the tests"
   ]
  },
  {
   "cell_type": "code",
   "execution_count": null,
   "id": "f3ec6aef",
   "metadata": {
    "scrolled": false
   },
   "outputs": [],
   "source": [
    "avg_rev_group = data.groupby('Price_Range')['UnitPrice'].mean().reset_index()\n",
    "avg_rev_group"
   ]
  },
  {
   "cell_type": "code",
   "execution_count": null,
   "id": "c96f976c",
   "metadata": {},
   "outputs": [],
   "source": [
    "medium = data[data['Price_Range']=='medium']['UnitPrice']\n",
    "low = data[data['Price_Range']=='low']['UnitPrice']\n",
    "\n",
    "product1 = data[data['Description']=='white hanging heart t-light holder']['UnitPrice']\n",
    "product2 = data[data['Description']=='regency cakestand 3 tier']['UnitPrice']"
   ]
  },
  {
   "cell_type": "markdown",
   "id": "f5de76c7",
   "metadata": {},
   "source": [
    "### conducting the test"
   ]
  },
  {
   "cell_type": "markdown",
   "id": "df92e9f4",
   "metadata": {},
   "source": [
    "- Differences in average unit price between price groups \"low\" and \"medium\".\n",
    "\n",
    "**Ho : There is no significant difference between the average of price group \"low\" and \"medium\".**\n",
    "\n",
    "**H1 : There is significant difference between the average of price group \"low\" and \"medium\".**"
   ]
  },
  {
   "cell_type": "code",
   "execution_count": null,
   "id": "cbe1d13c",
   "metadata": {
    "scrolled": true
   },
   "outputs": [],
   "source": [
    "t_statistic, p_value = stats.ttest_ind(low, medium)\n",
    "\n",
    "print(len(medium), medium.mean())\n",
    "print(len(low), low.mean())\n",
    "print('stat=%.3f, p=%.3f' % (t_statistic, p_value))\n",
    "if p_value < 0.05:\n",
    "    print('There is no significant difference between the average of price group \"low\" and \"medium\".')\n",
    "else:\n",
    "    print('There is significant difference between the average of price group \"low\" and \"medium\".')\n",
    "    \n"
   ]
  },
  {
   "cell_type": "markdown",
   "id": "f77fd2e6",
   "metadata": {},
   "source": [
    "we can't reject the null hypothese since the differnces between the avarges are too small. "
   ]
  },
  {
   "cell_type": "markdown",
   "id": "55b7223f",
   "metadata": {},
   "source": [
    "- Differences in avarge unit price between top 2 ordered product.\n",
    "\n",
    "**Ho: There is no significant difference between the average price of the top 2 ordered product.**\n",
    "\n",
    "**Ho: There is significant difference between the average price of the top 2 ordered product.**\n"
   ]
  },
  {
   "cell_type": "code",
   "execution_count": null,
   "id": "e7e93057",
   "metadata": {
    "scrolled": true
   },
   "outputs": [],
   "source": [
    "t_statistic, p_value = stats.ttest_ind(product1, product2)\n",
    "\n",
    "print(len(product1), product1.mean())\n",
    "print(len(product2), product2.mean())\n",
    "print('f_statistic = %.3f , p = %.3f' % (t_statistic, p_value))\n",
    "if p_value < 0.05:\n",
    "    print(\"There are significant differences in average income between price groups.\")\n",
    "else:\n",
    "    print(\"No significant differences in average income between price groups.\")"
   ]
  },
  {
   "cell_type": "markdown",
   "id": "f17be39e",
   "metadata": {},
   "source": [
    "according this we reject the null hypothese since there is significant differences in average income between those two products."
   ]
  },
  {
   "cell_type": "markdown",
   "id": "22e895e6",
   "metadata": {},
   "source": [
    "# recomnendation"
   ]
  },
  {
   "cell_type": "markdown",
   "id": "6086580b",
   "metadata": {},
   "source": [
    "- expand the range of products related to home accessories, home kitchen, food packaging solutions.\n",
    "\n",
    "- expand the range of products whose price belongs to the \"high medium\" category."
   ]
  },
  {
   "cell_type": "markdown",
   "id": "c81e21fa",
   "metadata": {},
   "source": [
    "## Dashboard"
   ]
  },
  {
   "cell_type": "markdown",
   "id": "9e82fc12",
   "metadata": {},
   "source": [
    "link to the Dashboard: https://public.tableau.com/shared/N4QQYWH63?:display_count=n&:origin=viz_share_link"
   ]
  },
  {
   "cell_type": "code",
   "execution_count": null,
   "id": "82874c06",
   "metadata": {},
   "outputs": [],
   "source": [
    "#loading the new data after all the change i made to new csv file \n",
    "\n",
    "#data.to_csv('data.csv',index=False)"
   ]
  },
  {
   "cell_type": "markdown",
   "id": "51d665fb",
   "metadata": {},
   "source": [
    "## Presentaion\n",
    "https://drive.google.com/file/d/1DvsuKKA6KwWq1QvUgVONyAlAyibBTvx3/view?usp=sharing"
   ]
  }
 ],
 "metadata": {
  "kernelspec": {
   "display_name": "Python 3 (ipykernel)",
   "language": "python",
   "name": "python3"
  },
  "language_info": {
   "codemirror_mode": {
    "name": "ipython",
    "version": 3
   },
   "file_extension": ".py",
   "mimetype": "text/x-python",
   "name": "python",
   "nbconvert_exporter": "python",
   "pygments_lexer": "ipython3",
   "version": "3.9.12"
  },
  "toc": {
   "base_numbering": 1,
   "nav_menu": {},
   "number_sections": true,
   "sideBar": true,
   "skip_h1_title": true,
   "title_cell": "Table of Contents",
   "title_sidebar": "Contents",
   "toc_cell": false,
   "toc_position": {},
   "toc_section_display": true,
   "toc_window_display": false
  }
 },
 "nbformat": 4,
 "nbformat_minor": 5
}
